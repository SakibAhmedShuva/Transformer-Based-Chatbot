{
  "nbformat": 4,
  "nbformat_minor": 0,
  "metadata": {
    "colab": {
      "provenance": []
    },
    "kernelspec": {
      "name": "python3",
      "display_name": "Python 3"
    },
    "language_info": {
      "name": "python"
    }
  },
  "cells": [
    {
      "cell_type": "code",
      "execution_count": 1,
      "metadata": {
        "id": "XD-oyYB3ZjiA"
      },
      "outputs": [],
      "source": [
        "import transformers\n",
        "from transformers import pipeline"
      ]
    },
    {
      "cell_type": "code",
      "source": [
        "print(transformers.__version__)"
      ],
      "metadata": {
        "colab": {
          "base_uri": "https://localhost:8080/"
        },
        "id": "448BNJepZkJ9",
        "outputId": "f54de1ce-0ce7-43af-f8a2-1d121244ea9c"
      },
      "execution_count": 2,
      "outputs": [
        {
          "output_type": "stream",
          "name": "stdout",
          "text": [
            "4.44.2\n"
          ]
        }
      ]
    },
    {
      "cell_type": "code",
      "source": [
        "pipe = pipeline('question-answering', model=\"distilbert/distilbert-base-cased-distilled-squad\")"
      ],
      "metadata": {
        "colab": {
          "base_uri": "https://localhost:8080/"
        },
        "id": "0tccwqetb93P",
        "outputId": "c91bb004-9068-40f1-9fd0-848d378e4676"
      },
      "execution_count": 11,
      "outputs": [
        {
          "output_type": "stream",
          "name": "stderr",
          "text": [
            "/usr/local/lib/python3.10/dist-packages/transformers/tokenization_utils_base.py:1601: FutureWarning: `clean_up_tokenization_spaces` was not set. It will be set to `True` by default. This behavior will be depracted in transformers v4.45, and will be then set to `False` by default. For more details check this issue: https://github.com/huggingface/transformers/issues/31884\n",
            "  warnings.warn(\n"
          ]
        }
      ]
    },
    {
      "cell_type": "code",
      "source": [
        "text = \"\"\"\n",
        "Rambo was known in the village for his love of cats. He had exactly 9 of them, each with its own unique personality. Out of these 9 cats, 2 were male and the rest were female. The males were the most mischievous, always getting into trouble, while the females lounged in the sun, watching the world go by.\n",
        "\n",
        "The cats were his constant companions, following him around the house and even sitting at his feet when he worked in the garden. Their names were a curious mix of sounds and meanings, but no one could remember all of them except Rambo himself.\n",
        "\"\"\""
      ],
      "metadata": {
        "id": "1jzkxDhobJVy"
      },
      "execution_count": 18,
      "outputs": []
    },
    {
      "cell_type": "code",
      "source": [
        "question = \"How many cats did Rambo have\"\n",
        "\n",
        "result = pipe(question=question,context=text)"
      ],
      "metadata": {
        "id": "VJpsXH6EbO8z"
      },
      "execution_count": 19,
      "outputs": []
    },
    {
      "cell_type": "code",
      "source": [
        "result"
      ],
      "metadata": {
        "colab": {
          "base_uri": "https://localhost:8080/"
        },
        "id": "iPwU__EgcrFj",
        "outputId": "e3b2a2c8-a60a-41f8-b66b-9716ac4b1fdf"
      },
      "execution_count": 20,
      "outputs": [
        {
          "output_type": "execute_result",
          "data": {
            "text/plain": [
              "{'score': 0.6168874502182007, 'start': 69, 'end': 70, 'answer': '9'}"
            ]
          },
          "metadata": {},
          "execution_count": 20
        }
      ]
    },
    {
      "cell_type": "code",
      "source": [
        "question = \"How many cats were male?\"\n",
        "\n",
        "result = pipe(question=question,context=text)\n",
        "result"
      ],
      "metadata": {
        "colab": {
          "base_uri": "https://localhost:8080/"
        },
        "id": "4tB7UNtYemZz",
        "outputId": "470651af-3020-41ea-d9bc-04552ff9d2ad"
      },
      "execution_count": 21,
      "outputs": [
        {
          "output_type": "execute_result",
          "data": {
            "text/plain": [
              "{'score': 0.9369974136352539, 'start': 139, 'end': 140, 'answer': '2'}"
            ]
          },
          "metadata": {},
          "execution_count": 21
        }
      ]
    }
  ]
}